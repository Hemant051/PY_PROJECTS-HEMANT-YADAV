{
  "nbformat": 4,
  "nbformat_minor": 0,
  "metadata": {
    "colab": {
      "name": "Plagiarism Checker Technical Seminar.ipynb",
      "provenance": [],
      "collapsed_sections": [],
      "mount_file_id": "1dc2MLzLA5j78jXPVo9AYC5nmD9esPFZ8",
      "authorship_tag": "ABX9TyPHTt7nLqP8im4aWYY+0AaW",
      "include_colab_link": true
    },
    "kernelspec": {
      "name": "python3",
      "display_name": "Python 3"
    },
    "language_info": {
      "name": "python"
    }
  },
  "cells": [
    {
      "cell_type": "markdown",
      "metadata": {
        "id": "view-in-github",
        "colab_type": "text"
      },
      "source": [
        "<a href=\"https://colab.research.google.com/github/Hemant051/PY_PROJECTS-HEMANT-YADAV/blob/main/Plagiarism_Checker_Technical_Seminar.ipynb\" target=\"_parent\"><img src=\"https://colab.research.google.com/assets/colab-badge.svg\" alt=\"Open In Colab\"/></a>"
      ]
    },
    {
      "cell_type": "markdown",
      "metadata": {
        "id": "dQG5vUZPvRoT"
      },
      "source": [
        "##Plagiarism Checker 1"
      ]
    },
    {
      "cell_type": "code",
      "metadata": {
        "id": "FIg6DiG0xpa1",
        "colab": {
          "base_uri": "https://localhost:8080/"
        },
        "outputId": "561a7ae8-0abf-445a-8ae8-fccd2241024e"
      },
      "source": [
        "from difflib import SequenceMatcher\n",
        "\n",
        "with open('/content/drive/MyDrive/file1.txt') as file1, open('/content/drive/MyDrive/file2.txt') as file2:\n",
        "    file1_data = file1.read()\n",
        "    file2_data = file2.read()\n",
        "    similarity = SequenceMatcher(None, file1_data, file2_data).ratio()\n",
        "    print(f\"The contents are {similarity*100}% common.\")"
      ],
      "execution_count": 2,
      "outputs": [
        {
          "output_type": "stream",
          "name": "stdout",
          "text": [
            "The contents are 40.35087719298245% common.\n"
          ]
        }
      ]
    }
  ]
}