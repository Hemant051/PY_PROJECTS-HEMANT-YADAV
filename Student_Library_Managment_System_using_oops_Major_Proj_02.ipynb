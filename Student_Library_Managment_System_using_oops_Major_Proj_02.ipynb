{
  "nbformat": 4,
  "nbformat_minor": 0,
  "metadata": {
    "colab": {
      "name": "Student Library Managment System using oops Major Proj 02.ipynb",
      "provenance": [],
      "collapsed_sections": [],
      "authorship_tag": "ABX9TyMhMNKqUGv1ytGaHjNNPbFo",
      "include_colab_link": true
    },
    "kernelspec": {
      "display_name": "Python 3",
      "name": "python3"
    },
    "language_info": {
      "name": "python"
    }
  },
  "cells": [
    {
      "cell_type": "markdown",
      "metadata": {
        "id": "view-in-github",
        "colab_type": "text"
      },
      "source": [
        "<a href=\"https://colab.research.google.com/github/Hemant051/PY_PROJECTS-HEMANT-YADAV/blob/main/Student_Library_Managment_System_using_oops_Major_Proj_02.ipynb\" target=\"_parent\"><img src=\"https://colab.research.google.com/assets/colab-badge.svg\" alt=\"Open In Colab\"/></a>"
      ]
    },
    {
      "cell_type": "markdown",
      "metadata": {
        "id": "egQjDzyQOtls"
      },
      "source": [
        "CENTRAL LIBRARY MANAGMENT SYSTEM USING OOPS"
      ]
    },
    {
      "cell_type": "code",
      "metadata": {
        "colab": {
          "background_save": true,
          "base_uri": "https://localhost:8080/"
        },
        "id": "WXqgfjqD1sFO",
        "outputId": "e344066f-3d58-4e93-9687-5bf37f57db45"
      },
      "source": [
        "class Library:\n",
        "  def __init__(self,listofbooks):\n",
        "    self.books = listofbooks\n",
        "\n",
        "  def displayAvailableBooks(self):\n",
        "    print(\"Books present in this library are: \")\n",
        "    for books in self.books:\n",
        "      print(\" @ \"+books)\n",
        "\n",
        "  def borrowBook(self,bookName):\n",
        "    if bookName in self.books:\n",
        "      print(f\"The Book {bookName}, Have Been Issued to you. Happy Learning! \")\n",
        "      self.books.remove(bookName)\n",
        "      return True\n",
        "    else:\n",
        "      print(\"Sorry this book is either not available or currently issued to someone else!\")\n",
        "      return False\n",
        "\n",
        "  def returnBook(self,bookName):\n",
        "     self.books.append(bookName)\n",
        "     print(f\"The Book {bookName} is returned succesfully , Hope you had a great learning! \")\n",
        "\n",
        "  \n",
        "class Student:\n",
        "  def requestBook(self):\n",
        "    self.book = input(\"Please enter the name of the book you want to borrow: \")\n",
        "    return self.book\n",
        "  def returnBook(self):\n",
        "    self.book = input(\"Please enter the name of the book you want to return: \")\n",
        "    return self.book\n",
        "\n",
        "    \n",
        "\n",
        "if __name__ == \"__main__\":\n",
        "  centralLibrary = Library(['Algorithms','Django','Clrs','Python Notes'])\n",
        "  student =Student()\n",
        "  # centralLibrary.displayAvailableBooks()\n",
        "\n",
        "  while(True):\n",
        "    welcomeMessage = ''' ****** Welcome to Central Library ****** \\n Please Choose an Option \\n 1) To Show all the books \\n 2) Request a Book\n",
        " 3) Donate/Return a Book \\n 4) Eixt from library '''\n",
        "    print(welcomeMessage)\n",
        "    a = int(input(\"Select your Query: \"))\n",
        "    if a == 1:\n",
        "      centralLibrary.displayAvailableBooks()\n",
        "    elif a == 2:\n",
        "      centralLibrary.borrowBook(student.requestBook())\n",
        "    elif a == 3:\n",
        "      centralLibrary.returnBook(student.returnBook())\n",
        "    elif a == 4:\n",
        "      print(\"Thanks for visiting Central Library, Have a Good Day!\")\n",
        "      exit()\n",
        "    else:\n",
        "      print(\"Please Choose a Valid Option\")\n",
        "    \n",
        "      \n",
        "\n",
        "    "
      ],
      "execution_count": null,
      "outputs": [
        {
          "name": "stdout",
          "output_type": "stream",
          "text": [
            " ****** Welcome to Central Library ****** \n",
            " Please Choose an Option \n",
            " 1) To Show all the books \n",
            " 2) Request a Book\n",
            " 3) Donate/Return a Book \n",
            " 4) Eixt from library \n",
            "Thanks for visiting Central Library, Have a Good Day!\n",
            " ****** Welcome to Central Library ****** \n",
            " Please Choose an Option \n",
            " 1) To Show all the books \n",
            " 2) Request a Book\n",
            " 3) Donate/Return a Book \n",
            " 4) Eixt from library \n"
          ]
        }
      ]
    }
  ]
}