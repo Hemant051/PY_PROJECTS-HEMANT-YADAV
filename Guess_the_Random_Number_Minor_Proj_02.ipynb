{
  "nbformat": 4,
  "nbformat_minor": 0,
  "metadata": {
    "colab": {
      "name": "Guess the Random Number_Minor Proj 02.ipynb",
      "provenance": [],
      "collapsed_sections": [],
      "authorship_tag": "ABX9TyM1pFqSdR3YhsYC4dzk5LIk",
      "include_colab_link": true
    },
    "kernelspec": {
      "name": "python3",
      "display_name": "Python 3"
    },
    "language_info": {
      "name": "python"
    }
  },
  "cells": [
    {
      "cell_type": "markdown",
      "metadata": {
        "id": "view-in-github",
        "colab_type": "text"
      },
      "source": [
        "<a href=\"https://colab.research.google.com/github/Hemant051/PY_PROJECTS-HEMANT-YADAV/blob/main/Guess_the_Random_Number_Minor_Proj_02.ipynb\" target=\"_parent\"><img src=\"https://colab.research.google.com/assets/colab-badge.svg\" alt=\"Open In Colab\"/></a>"
      ]
    },
    {
      "cell_type": "code",
      "metadata": {
        "colab": {
          "base_uri": "https://localhost:8080/"
        },
        "id": "fXdlK3AX1mzt",
        "outputId": "084225e1-666d-4b90-feb4-3b5ed5b233b2"
      },
      "source": [
        "import random\n",
        "random_no = random.randint(1,100)\n",
        "# print(random_no)\n",
        "user_guess = None\n",
        "guesses = 0\n",
        "while (user_guess != random_no):\n",
        "  guesses +=1\n",
        "  user_guess = int(input(\"Enter Your Guess:  \"))\n",
        "  if user_guess == random_no:\n",
        "    print(\"You guessed it right!\")\n",
        "  else:\n",
        "    if user_guess > random_no:\n",
        "      print(\"You guessed it wrong! please try a smaller number..\")\n",
        "    else:\n",
        "      print(\"You guessed it wrong! please try a larger number..\")\n",
        "print(f'Your total number of guesses are: {guesses}')"
      ],
      "execution_count": null,
      "outputs": [
        {
          "output_type": "stream",
          "text": [
            "Enter Your Guess:  47\n",
            "You guessed it wrong! please try a larger number..\n",
            "Enter Your Guess:  49\n",
            "You guessed it wrong! please try a larger number..\n",
            "Enter Your Guess:  50\n",
            "You guessed it wrong! please try a larger number..\n",
            "Enter Your Guess:  55\n",
            "You guessed it wrong! please try a larger number..\n",
            "Enter Your Guess:  60\n",
            "You guessed it wrong! please try a smaller number..\n",
            "Enter Your Guess:  57\n",
            "You guessed it wrong! please try a larger number..\n",
            "Enter Your Guess:  58\n",
            "You guessed it wrong! please try a larger number..\n",
            "Enter Your Guess:  59\n",
            "You guessed it right!\n",
            "Your total number of guesses are: 8\n"
          ],
          "name": "stdout"
        }
      ]
    },
    {
      "cell_type": "code",
      "metadata": {
        "id": "47py9acC1pup",
        "colab": {
          "base_uri": "https://localhost:8080/"
        },
        "outputId": "54b44297-8636-4c97-a2d2-f07aa657656a"
      },
      "source": [
        "3"
      ],
      "execution_count": null,
      "outputs": [
        {
          "output_type": "execute_result",
          "data": {
            "text/plain": [
              "3"
            ]
          },
          "metadata": {},
          "execution_count": 5
        }
      ]
    },
    {
      "cell_type": "code",
      "metadata": {
        "id": "pKgnzAOx-6cX"
      },
      "source": [
        "60"
      ],
      "execution_count": null,
      "outputs": []
    }
  ]
}