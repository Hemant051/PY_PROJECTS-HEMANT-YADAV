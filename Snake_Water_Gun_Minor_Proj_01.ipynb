{
  "nbformat": 4,
  "nbformat_minor": 0,
  "metadata": {
    "colab": {
      "name": "Snake_Water_Gun_Minor_Proj 01.ipynb",
      "provenance": [],
      "collapsed_sections": [],
      "include_colab_link": true
    },
    "kernelspec": {
      "name": "python3",
      "display_name": "Python 3"
    },
    "language_info": {
      "name": "python"
    }
  },
  "cells": [
    {
      "cell_type": "markdown",
      "metadata": {
        "id": "view-in-github",
        "colab_type": "text"
      },
      "source": [
        "<a href=\"https://colab.research.google.com/github/Hemant051/PY_PROJECTS-HEMANT-YADAV/blob/main/Snake_Water_Gun_Minor_Proj_01.ipynb\" target=\"_parent\"><img src=\"https://colab.research.google.com/assets/colab-badge.svg\" alt=\"Open In Colab\"/></a>"
      ]
    },
    {
      "cell_type": "code",
      "metadata": {
        "colab": {
          "base_uri": "https://localhost:8080/"
        },
        "id": "2X1iuoBdpQpp",
        "outputId": "4df1962f-a90b-4966-dbaa-aef3ce1d7a98"
      },
      "source": [
        "#snake water gun simple !\n",
        "import random\n",
        "def GameWin(Comp,You):\n",
        "      if Comp == You:\n",
        "        return None\n",
        "      elif Comp == 's':\n",
        "        if You == 'w':\n",
        "          return False\n",
        "        elif You =='g':\n",
        "          return True\n",
        "      elif Comp == 'g':\n",
        "        if You == 's':\n",
        "          return False\n",
        "        elif You =='w':\n",
        "          return True\n",
        "      elif Comp == 'w':\n",
        "        if You == 'g':\n",
        "          return False\n",
        "        elif You =='s':\n",
        "          return True\n",
        "\n",
        "print(\"Copm Turn: Snake(s),Water(w) or Gun(g)!\")\n",
        "randno = random.randint(1,3)\n",
        "if randno == 1:\n",
        "    Comp = 's'\n",
        "elif randno == 2:\n",
        "    Comp = 'w'\n",
        "elif randno == 3:\n",
        "    Comp = 'g'\n",
        "You=input(\"Your Turn: Snake(s),Water(w) or Gun(g)!\")\n",
        "Result = GameWin(Comp,You)\n",
        "print(\"computer's play: \",Comp)\n",
        "print(\"your play: \",You)\n",
        "if Result == None:\n",
        "  print(\"The Game is a Tie!!\")\n",
        "elif Result == False:\n",
        "   print(\"You Lose, Better Luck Next time!\")\n",
        "else:\n",
        "  print(\"You Win, Congratulations !\")\n",
        "  "
      ],
      "execution_count": null,
      "outputs": [
        {
          "output_type": "stream",
          "text": [
            "Copm Turn: Snake(s),Water(w) or Gun(g)!\n",
            "Your Turn: Snake(s),Water(w) or Gun(g)!s\n",
            "computer's play:  g\n",
            "your play:  s\n",
            "You Lose, Better Luck Next time!\n"
          ],
          "name": "stdout"
        }
      ]
    },
    {
      "cell_type": "code",
      "metadata": {
        "id": "P3WyMTghtXrr",
        "colab": {
          "base_uri": "https://localhost:8080/"
        },
        "outputId": "6a347133-90b4-4244-a058-d2c5ffdacf16"
      },
      "source": [
        "# snake water gun with scores and game size!\n",
        "import random\n",
        "Comp_score = 0\n",
        "Your_score = 0\n",
        "Game_Size = int(input(\"What Number of Times You Want to Play The Game: \"))\n",
        "for i in range(Game_Size):\n",
        "  def GameWin(Comp,You):\n",
        "      if Comp == You:\n",
        "        return None\n",
        "      elif Comp == 's':\n",
        "        if You == 'w':\n",
        "           return False \n",
        "        elif You =='g':\n",
        "          return True \n",
        "      elif Comp == 'g':\n",
        "        if You == 's':\n",
        "          return False \n",
        "        elif You =='w':\n",
        "         return True \n",
        "      elif Comp == 'w':\n",
        "        if You == 'g':\n",
        "          return False \n",
        "        elif You =='s':\n",
        "         return True \n",
        "  print(\"Copm Turn: Snake(s),Water(w) or Gun(g)!\")\n",
        "  randno = random.randint(1,3)\n",
        "  if randno == 1:\n",
        "    Comp = 's'\n",
        "  elif randno == 2:\n",
        "    Comp = 'w'\n",
        "  elif randno == 3:\n",
        "    Comp = 'g'\n",
        "  You=input(\"Your Turn: Snake(s),Water(w) or Gun(g)!\")\n",
        "  print(\"computer's play: \",Comp)\n",
        "  print(\"your play: \",You)\n",
        "  r=GameWin(Comp,You) \n",
        "  if r is True :\n",
        "      Your_score += 1\n",
        "  elif r is False :\n",
        "      Comp_score += 1\n",
        "  elif r is None :\n",
        "      Your_score +=0 \n",
        "      Comp_score +=0\n",
        "print(\"Your Score is  \", Your_score)\n",
        "print(\"Computer's Score is \", Comp_score)\n",
        "if Comp_score > Your_score:\n",
        "    print(\"You Lose, Better Luck Next Time :-(  \")\n",
        "elif Comp_score < Your_score:\n",
        "    print(\"You Won The Game, Hurray :-) \")\n",
        "elif Comp_score == Your_score:\n",
        "    print(\"The Game is a Tie, Try More Harder :-()\")\n",
        "  \n",
        "  "
      ],
      "execution_count": null,
      "outputs": [
        {
          "output_type": "stream",
          "name": "stdout",
          "text": [
            "What Number of Times You Want to Play The Game: 4\n",
            "Copm Turn: Snake(s),Water(w) or Gun(g)!\n",
            "Your Turn: Snake(s),Water(w) or Gun(g)!w\n",
            "computer's play:  g\n",
            "your play:  w\n",
            "Copm Turn: Snake(s),Water(w) or Gun(g)!\n",
            "Your Turn: Snake(s),Water(w) or Gun(g)!g\n",
            "computer's play:  s\n",
            "your play:  g\n",
            "Copm Turn: Snake(s),Water(w) or Gun(g)!\n",
            "Your Turn: Snake(s),Water(w) or Gun(g)!s\n",
            "computer's play:  g\n",
            "your play:  s\n",
            "Copm Turn: Snake(s),Water(w) or Gun(g)!\n",
            "Your Turn: Snake(s),Water(w) or Gun(g)!w\n",
            "computer's play:  g\n",
            "your play:  w\n",
            "Your Score is   3\n",
            "Computer's Score is  1\n",
            "You Won The Game, Hurray :-) \n"
          ]
        }
      ]
    },
    {
      "cell_type": "code",
      "metadata": {
        "id": "5_aIhRZF9eJE"
      },
      "source": [
        ""
      ],
      "execution_count": null,
      "outputs": []
    }
  ]
}